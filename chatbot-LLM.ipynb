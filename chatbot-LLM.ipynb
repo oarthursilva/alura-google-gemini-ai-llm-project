{
  "nbformat": 4,
  "nbformat_minor": 0,
  "metadata": {
    "colab": {
      "provenance": [],
      "toc_visible": true,
      "authorship_tag": "ABX9TyOyYTAaJq0GJ1OhfunOx0PQ",
      "include_colab_link": true
    },
    "kernelspec": {
      "name": "python3",
      "display_name": "Python 3"
    },
    "language_info": {
      "name": "python"
    }
  },
  "cells": [
    {
      "cell_type": "markdown",
      "metadata": {
        "id": "view-in-github",
        "colab_type": "text"
      },
      "source": [
        "<a href=\"https://colab.research.google.com/github/oarthursilva/alura-google-gemini-ai-llm-project/blob/master/chatbot-LLM.ipynb\" target=\"_parent\"><img src=\"https://colab.research.google.com/assets/colab-badge.svg\" alt=\"Open In Colab\"/></a>"
      ]
    },
    {
      "cell_type": "markdown",
      "source": [
        "instalando o SDK do `Google generative AI`"
      ],
      "metadata": {
        "id": "KxIezJB54ygi"
      }
    },
    {
      "cell_type": "code",
      "execution_count": 4,
      "metadata": {
        "id": "zjZKH4Ky4Y-g"
      },
      "outputs": [],
      "source": [
        "!pip install -q -U google-generativeai"
      ]
    },
    {
      "cell_type": "code",
      "source": [
        "# Import the Python SDK\n",
        "import google.generativeai as genai\n",
        "\n",
        "# Used to securely store your API key\n",
        "from google.colab import userdata\n",
        "\n",
        "GOOGLE_API_KEY=userdata.get('GOOGLE_API_KEY')\n",
        "genai.configure(api_key=GOOGLE_API_KEY)"
      ],
      "metadata": {
        "id": "IcLrxjrq5FHp"
      },
      "execution_count": 18,
      "outputs": []
    },
    {
      "cell_type": "markdown",
      "source": [
        "Listar os modelos disponíveis"
      ],
      "metadata": {
        "id": "6pOwXgLY5M1j"
      }
    },
    {
      "cell_type": "code",
      "source": [
        "for model in genai.list_models():\n",
        "  if 'generateContent' in model.supported_generation_methods:\n",
        "    print(model.name)"
      ],
      "metadata": {
        "colab": {
          "base_uri": "https://localhost:8080/",
          "height": 139
        },
        "id": "vvlUfVeJ5JLC",
        "outputId": "083bbe9d-cb7f-4bec-d6d0-017c23520dd4"
      },
      "execution_count": 6,
      "outputs": [
        {
          "output_type": "stream",
          "name": "stdout",
          "text": [
            "models/gemini-1.0-pro\n",
            "models/gemini-1.0-pro-001\n",
            "models/gemini-1.0-pro-latest\n",
            "models/gemini-1.0-pro-vision-latest\n",
            "models/gemini-1.5-pro-latest\n",
            "models/gemini-pro\n",
            "models/gemini-pro-vision\n"
          ]
        }
      ]
    },
    {
      "cell_type": "code",
      "source": [
        "generation_config = {\n",
        "    \"candidate_count\" : 1,\n",
        "    \"temperature\"     : 0.5,\n",
        "    #\"top_p\"           :\n",
        "    #\"top_k\"           :\n",
        " }"
      ],
      "metadata": {
        "id": "h6Yv09fZZ57n"
      },
      "execution_count": 7,
      "outputs": []
    },
    {
      "cell_type": "code",
      "source": [
        "safety_settings = {\n",
        "    \"HARASSMENT\" : \"BLOCK_NONE\",\n",
        "    \"HATE\"       : \"BLOCK_NONE\",\n",
        "    \"SEXUAL\"     : \"BLOCK_NONE\",\n",
        "    \"DANGEROUS\"  : \"BLOCK_NONE\"\n",
        "}"
      ],
      "metadata": {
        "id": "FdGmIY2XaVm0"
      },
      "execution_count": 8,
      "outputs": []
    },
    {
      "cell_type": "markdown",
      "source": [
        "Inicializando o modelo"
      ],
      "metadata": {
        "id": "j9LjMEOha_c3"
      }
    },
    {
      "cell_type": "code",
      "source": [
        "model = genai.GenerativeModel(\n",
        "  model_name        = \"gemini-1.0-pro\",\n",
        "  generation_config = generation_config,\n",
        "  safety_settings   = safety_settings\n",
        ")"
      ],
      "metadata": {
        "id": "vr288CICbFPU"
      },
      "execution_count": 9,
      "outputs": []
    },
    {
      "cell_type": "markdown",
      "source": [
        "Gerar conteudo"
      ],
      "metadata": {
        "id": "4zHgVpRxb8gi"
      }
    },
    {
      "cell_type": "code",
      "source": [
        "response = model.generate_content(\"Estou aprendendo sobre IA, me de sugestões de aprendizado.\")\n",
        "print(response.text)"
      ],
      "metadata": {
        "colab": {
          "base_uri": "https://localhost:8080/",
          "height": 538
        },
        "id": "E6kx6VpecDI5",
        "outputId": "22492977-fe9b-4df7-fe9c-40aa08f20b45"
      },
      "execution_count": 10,
      "outputs": [
        {
          "output_type": "stream",
          "name": "stdout",
          "text": [
            "**Recursos Online:**\n",
            "\n",
            "* **Coursera:** Cursos de IA de universidades de renome, como Stanford e Georgia Tech.\n",
            "* **edX:** Cursos de IA oferecidos por instituições como MIT e Harvard.\n",
            "* **Udemy:** Cursos pagos e gratuitos sobre vários tópicos de IA.\n",
            "* **YouTube:** Canais como MIT OpenCourseWare e Google AI oferecem vídeos e palestras sobre IA.\n",
            "* **Kaggle:** Plataforma de aprendizado e competição que oferece conjuntos de dados e desafios de IA.\n",
            "\n",
            "**Livros:**\n",
            "\n",
            "* **Inteligência Artificial: Uma Abordagem Moderna** (Stuart Russell e Peter Norvig)\n",
            "* **Aprendizado de Máquina** (Tom Mitchell)\n",
            "* **Aprendizado Profundo** (Ian Goodfellow, Yoshua Bengio e Aaron Courville)\n",
            "* **IA para Todos** (Andrew Ng)\n",
            "* **Inteligência Artificial: Um Guia Moderno** (Melanie Mitchell)\n",
            "\n",
            "**Comunidades e Fóruns:**\n",
            "\n",
            "* **Reddit:** Subreddits como /r/artificial e /r/machinelearning oferecem discussões e recursos.\n",
            "* **Stack Overflow:** Plataforma de perguntas e respostas para programadores, incluindo tópicos de IA.\n",
            "* **GitHub:** Repositórios com códigos e projetos de IA de código aberto.\n",
            "* **Meetup:** Grupos locais que organizam eventos e palestras sobre IA.\n",
            "\n",
            "**Projetos Práticos:**\n",
            "\n",
            "* **Construa um chatbot:** Use bibliotecas como Rasa ou Dialogflow para criar um chatbot conversacional.\n",
            "* **Treine um modelo de reconhecimento de imagem:** Use bibliotecas como TensorFlow ou PyTorch para treinar um modelo que possa identificar objetos em imagens.\n",
            "* **Analise dados de texto:** Use técnicas de processamento de linguagem natural (PNL) para extrair insights de dados de texto.\n",
            "* **Desenvolva um sistema de recomendação:** Use algoritmos de aprendizado de máquina para criar um sistema que possa recomendar produtos ou serviços aos usuários.\n",
            "* **Participe de competições de IA:** Participe de desafios de IA em plataformas como Kaggle para testar suas habilidades e aprender com outros.\n"
          ]
        }
      ]
    },
    {
      "cell_type": "markdown",
      "source": [
        "Inicializando o chat"
      ],
      "metadata": {
        "id": "IuVfY_Ehclmr"
      }
    },
    {
      "cell_type": "code",
      "source": [
        "chat = model.start_chat(\n",
        "  history = []\n",
        ")"
      ],
      "metadata": {
        "id": "lq9WThUWcWuw"
      },
      "execution_count": 11,
      "outputs": []
    },
    {
      "cell_type": "code",
      "source": [
        "prompt = input(\"Esperando prompt: \")\n",
        "\n",
        "while prompt != \"fim\":\n",
        "  response = chat.send_message(prompt)\n",
        "  print(\"Resposta: \", response.text, \"\\n\")\n",
        "  prompt = input(\"Esperando prompt: \")\n",
        "\n"
      ],
      "metadata": {
        "colab": {
          "base_uri": "https://localhost:8080/",
          "height": 419
        },
        "id": "mL8gWhDdcrF-",
        "outputId": "f8bcacc9-0398-4045-bd00-55be7258350d"
      },
      "execution_count": 14,
      "outputs": [
        {
          "name": "stdout",
          "output_type": "stream",
          "text": [
            "Esperando prompt: O que é AI ? \n",
            "Resposta:  Inteligência Artificial (IA) é a capacidade dos computadores de realizar tarefas que normalmente requerem inteligência humana, como aprendizado, resolução de problemas e tomada de decisão. \n",
            "\n",
            "Esperando prompt: Sério ? \n",
            "Resposta:  Sim, a IA é um campo da ciência da computação que se concentra no desenvolvimento de sistemas que podem realizar tarefas que normalmente requerem inteligência humana. Esses sistemas são projetados para aprender com os dados, identificar padrões e tomar decisões sem serem explicitamente programados para fazê-lo. \n",
            "\n",
            "Esperando prompt: Existe a possibilidade de não ser ? \n",
            "Resposta:  É altamente improvável que a Inteligência Artificial (IA) não exista. A IA é um campo bem estabelecido da ciência da computação, com décadas de pesquisa e desenvolvimento. Existem inúmeras aplicações de IA no mundo real, desde carros autônomos até assistentes pessoais virtuais. Além disso, há um consenso esmagador entre os especialistas em IA de que o campo é real e continua a avançar rapidamente. \n",
            "\n",
            "Esperando prompt: Qual a chance de IA deixar de existir em um futuro próximo ?\n",
            "Resposta:  A chance de a Inteligência Artificial (IA) deixar de existir em um futuro próximo é extremamente baixa. A IA é um campo em rápido crescimento, com amplas aplicações no mundo real. Espera-se que a IA continue a desempenhar um papel cada vez mais importante em nossas vidas nos próximos anos.\n",
            "\n",
            "Existem vários fatores que tornam improvável que a IA deixe de existir:\n",
            "\n",
            "* **Avanços contínuos em tecnologia:** Os avanços contínuos em poder computacional, algoritmos e disponibilidade de dados estão impulsionando o progresso da IA.\n",
            "* **Ampla gama de aplicações:** A IA está sendo usada em uma ampla gama de indústrias, incluindo saúde, finanças, manufatura e transporte. Esses setores dependem cada vez mais da IA para melhorar a eficiência, a tomada de decisão e a inovação.\n",
            "* **Investimentos significativos:** Governos, empresas e instituições de pesquisa estão investindo pesadamente em pesquisa e desenvolvimento de IA. Esses investimentos garantem que o campo continue a avançar.\n",
            "* **Apoio social:** A IA tem amplo apoio social, com a maioria das pessoas reconhecendo seus benefícios potenciais. Isso cria um ambiente favorável para o crescimento e desenvolvimento contínuos da IA.\n",
            "\n",
            "Embora seja possível que ocorram retrocessos ou desafios no campo da IA, é altamente improvável que a IA deixe de existir completamente em um futuro próximo. \n",
            "\n",
            "Esperando prompt: fim\n"
          ]
        }
      ]
    },
    {
      "cell_type": "markdown",
      "source": [
        "Aperfeiçoando o UI"
      ],
      "metadata": {
        "id": "qU_n-sRVeZny"
      }
    },
    {
      "cell_type": "code",
      "source": [
        "chat"
      ],
      "metadata": {
        "colab": {
          "base_uri": "https://localhost:8080/"
        },
        "id": "GhY42fyrfYJi",
        "outputId": "c0437e96-478d-4328-c832-9bb7294400c7"
      },
      "execution_count": 15,
      "outputs": [
        {
          "output_type": "execute_result",
          "data": {
            "text/plain": [
              "ChatSession(\n",
              "    model=genai.GenerativeModel(\n",
              "        model_name='models/gemini-1.0-pro',\n",
              "        generation_config={'candidate_count': 1, 'temperature': 0.5},\n",
              "        safety_settings={<HarmCategory.HARM_CATEGORY_HARASSMENT: 7>: <HarmBlockThreshold.BLOCK_NONE: 4>, <HarmCategory.HARM_CATEGORY_HATE_SPEECH: 8>: <HarmBlockThreshold.BLOCK_NONE: 4>, <HarmCategory.HARM_CATEGORY_SEXUALLY_EXPLICIT: 9>: <HarmBlockThreshold.BLOCK_NONE: 4>, <HarmCategory.HARM_CATEGORY_DANGEROUS_CONTENT: 10>: <HarmBlockThreshold.BLOCK_NONE: 4>},\n",
              "        tools=None,\n",
              "        system_instruction=None,\n",
              "    ),\n",
              "    history=[glm.Content({'parts': [{'text': 'O que é AI ? '}], 'role': 'user'}), glm.Content({'parts': [{'text': 'Inteligência...a de decisão.'}], 'role': 'model'}), glm.Content({'parts': [{'text': 'Sério ? '}], 'role': 'user'}), glm.Content({'parts': [{'text': 'Sim, a IA é ...para fazê-lo.'}], 'role': 'model'}), glm.Content({'parts': [{'text': 'Existe a pos...de não ser ? '}], 'role': 'user'}), glm.Content({'parts': [{'text': 'É altamente ... rapidamente.'}], 'role': 'model'}), glm.Content({'parts': [{'text': 'Qual a chanc...uro próximo ?'}], 'role': 'user'}), glm.Content({'parts': [{'text': 'A chance de ...turo próximo.'}], 'role': 'model'})]\n",
              ")"
            ]
          },
          "metadata": {},
          "execution_count": 15
        }
      ]
    },
    {
      "cell_type": "code",
      "source": [
        "import textwrap\n",
        "from IPython.display import display\n",
        "from IPython.display import Markdown\n",
        "# Used to securely store your API key\n",
        "from google.colab import userdata\n",
        "\n",
        "def to_markdown(text):\n",
        "  text = text.replace('•', '  *')\n",
        "  return Markdown(textwrap.indent(text, '> ', predicate=lambda _: True))\n",
        "\n",
        "# Imprimindo o histórico\n",
        "for message in chat.history:\n",
        "  display(to_markdown(f'**{message.role}**: {message.parts[0].text}'))\n",
        "  print('---------------------------------------------')"
      ],
      "metadata": {
        "colab": {
          "base_uri": "https://localhost:8080/",
          "height": 849
        },
        "id": "drdvhpY-ebRA",
        "outputId": "2d2ba497-59aa-48dc-c90e-f66acef6cd58"
      },
      "execution_count": 19,
      "outputs": [
        {
          "output_type": "display_data",
          "data": {
            "text/plain": [
              "<IPython.core.display.Markdown object>"
            ],
            "text/markdown": "> **user**: O que é AI ? "
          },
          "metadata": {}
        },
        {
          "output_type": "stream",
          "name": "stdout",
          "text": [
            "---------------------------------------------\n"
          ]
        },
        {
          "output_type": "display_data",
          "data": {
            "text/plain": [
              "<IPython.core.display.Markdown object>"
            ],
            "text/markdown": "> **model**: Inteligência Artificial (IA) é a capacidade dos computadores de realizar tarefas que normalmente requerem inteligência humana, como aprendizado, resolução de problemas e tomada de decisão."
          },
          "metadata": {}
        },
        {
          "output_type": "stream",
          "name": "stdout",
          "text": [
            "---------------------------------------------\n"
          ]
        },
        {
          "output_type": "display_data",
          "data": {
            "text/plain": [
              "<IPython.core.display.Markdown object>"
            ],
            "text/markdown": "> **user**: Sério ? "
          },
          "metadata": {}
        },
        {
          "output_type": "stream",
          "name": "stdout",
          "text": [
            "---------------------------------------------\n"
          ]
        },
        {
          "output_type": "display_data",
          "data": {
            "text/plain": [
              "<IPython.core.display.Markdown object>"
            ],
            "text/markdown": "> **model**: Sim, a IA é um campo da ciência da computação que se concentra no desenvolvimento de sistemas que podem realizar tarefas que normalmente requerem inteligência humana. Esses sistemas são projetados para aprender com os dados, identificar padrões e tomar decisões sem serem explicitamente programados para fazê-lo."
          },
          "metadata": {}
        },
        {
          "output_type": "stream",
          "name": "stdout",
          "text": [
            "---------------------------------------------\n"
          ]
        },
        {
          "output_type": "display_data",
          "data": {
            "text/plain": [
              "<IPython.core.display.Markdown object>"
            ],
            "text/markdown": "> **user**: Existe a possibilidade de não ser ? "
          },
          "metadata": {}
        },
        {
          "output_type": "stream",
          "name": "stdout",
          "text": [
            "---------------------------------------------\n"
          ]
        },
        {
          "output_type": "display_data",
          "data": {
            "text/plain": [
              "<IPython.core.display.Markdown object>"
            ],
            "text/markdown": "> **model**: É altamente improvável que a Inteligência Artificial (IA) não exista. A IA é um campo bem estabelecido da ciência da computação, com décadas de pesquisa e desenvolvimento. Existem inúmeras aplicações de IA no mundo real, desde carros autônomos até assistentes pessoais virtuais. Além disso, há um consenso esmagador entre os especialistas em IA de que o campo é real e continua a avançar rapidamente."
          },
          "metadata": {}
        },
        {
          "output_type": "stream",
          "name": "stdout",
          "text": [
            "---------------------------------------------\n"
          ]
        },
        {
          "output_type": "display_data",
          "data": {
            "text/plain": [
              "<IPython.core.display.Markdown object>"
            ],
            "text/markdown": "> **user**: Qual a chance de IA deixar de existir em um futuro próximo ?"
          },
          "metadata": {}
        },
        {
          "output_type": "stream",
          "name": "stdout",
          "text": [
            "---------------------------------------------\n"
          ]
        },
        {
          "output_type": "display_data",
          "data": {
            "text/plain": [
              "<IPython.core.display.Markdown object>"
            ],
            "text/markdown": "> **model**: A chance de a Inteligência Artificial (IA) deixar de existir em um futuro próximo é extremamente baixa. A IA é um campo em rápido crescimento, com amplas aplicações no mundo real. Espera-se que a IA continue a desempenhar um papel cada vez mais importante em nossas vidas nos próximos anos.\n> \n> Existem vários fatores que tornam improvável que a IA deixe de existir:\n> \n> * **Avanços contínuos em tecnologia:** Os avanços contínuos em poder computacional, algoritmos e disponibilidade de dados estão impulsionando o progresso da IA.\n> * **Ampla gama de aplicações:** A IA está sendo usada em uma ampla gama de indústrias, incluindo saúde, finanças, manufatura e transporte. Esses setores dependem cada vez mais da IA para melhorar a eficiência, a tomada de decisão e a inovação.\n> * **Investimentos significativos:** Governos, empresas e instituições de pesquisa estão investindo pesadamente em pesquisa e desenvolvimento de IA. Esses investimentos garantem que o campo continue a avançar.\n> * **Apoio social:** A IA tem amplo apoio social, com a maioria das pessoas reconhecendo seus benefícios potenciais. Isso cria um ambiente favorável para o crescimento e desenvolvimento contínuos da IA.\n> \n> Embora seja possível que ocorram retrocessos ou desafios no campo da IA, é altamente improvável que a IA deixe de existir completamente em um futuro próximo."
          },
          "metadata": {}
        },
        {
          "output_type": "stream",
          "name": "stdout",
          "text": [
            "---------------------------------------------\n"
          ]
        }
      ]
    }
  ]
}