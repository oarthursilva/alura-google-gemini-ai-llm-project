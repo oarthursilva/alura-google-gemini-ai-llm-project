{
  "nbformat": 4,
  "nbformat_minor": 0,
  "metadata": {
    "colab": {
      "provenance": [],
      "toc_visible": true,
      "authorship_tag": "ABX9TyN7G5pJsaN/nSKSFBtVrwHE",
      "include_colab_link": true
    },
    "kernelspec": {
      "name": "python3",
      "display_name": "Python 3"
    },
    "language_info": {
      "name": "python"
    }
  },
  "cells": [
    {
      "cell_type": "markdown",
      "metadata": {
        "id": "view-in-github",
        "colab_type": "text"
      },
      "source": [
        "<a href=\"https://colab.research.google.com/github/oarthursilva/alura-google-gemini-ai-llm-project/blob/master/chatbot_LLM.ipynb\" target=\"_parent\"><img src=\"https://colab.research.google.com/assets/colab-badge.svg\" alt=\"Open In Colab\"/></a>"
      ]
    },
    {
      "cell_type": "markdown",
      "source": [
        "## Instalando o SDK do `Google generative AI`\n",
        "\n",
        "O SDK Python para a API Gemini está contido no pacote [`google-generativeai`](https://pypi.org/project/google-generativeai/). Instale a dependência usando o gerenciador de pacotes `pip`0:"
      ],
      "metadata": {
        "id": "KxIezJB54ygi"
      }
    },
    {
      "cell_type": "code",
      "execution_count": 4,
      "metadata": {
        "id": "zjZKH4Ky4Y-g"
      },
      "outputs": [],
      "source": [
        "!pip install -q -U google-generativeai"
      ]
    },
    {
      "cell_type": "markdown",
      "source": [
        "#### Importando o SDK"
      ],
      "metadata": {
        "id": "sl_jUG6QmOTj"
      }
    },
    {
      "cell_type": "code",
      "source": [
        "import google.generativeai as genai\n"
      ],
      "metadata": {
        "id": "tPddSTHTmNke"
      },
      "execution_count": 21,
      "outputs": []
    },
    {
      "cell_type": "markdown",
      "source": [
        "## Configurando a API key\n",
        "\n",
        "Para utilizar a API Gemini, é necessário a utilização de uma `API Key`, que é disponibilizado pela própria Google na plataforma [Google AI Studio](https://aistudio.google.com/app/apikey)\n",
        "\n",
        "No Colab, adicione a chave \"🔑\" ao gerenciador de segredos a partir do menu lateral no canto esquerdo. Dê a ela o nome `GOOGLE_API_KEY`."
      ],
      "metadata": {
        "id": "RJ15_fGXleQu"
      }
    },
    {
      "cell_type": "code",
      "source": [
        "from google.colab import userdata\n",
        "\n",
        "GOOGLE_API_KEY=userdata.get('GOOGLE_API_KEY')\n",
        "genai.configure(api_key=GOOGLE_API_KEY)"
      ],
      "metadata": {
        "id": "IcLrxjrq5FHp"
      },
      "execution_count": 22,
      "outputs": []
    },
    {
      "cell_type": "markdown",
      "source": [
        "#### Listar os modelos generativos disponíveis"
      ],
      "metadata": {
        "id": "6pOwXgLY5M1j"
      }
    },
    {
      "cell_type": "code",
      "source": [
        "for model in genai.list_models():\n",
        "  if 'generateContent' in model.supported_generation_methods:\n",
        "    print(model.name)"
      ],
      "metadata": {
        "colab": {
          "base_uri": "https://localhost:8080/",
          "height": 145
        },
        "id": "vvlUfVeJ5JLC",
        "outputId": "58df9c12-8a01-4e19-8b7d-35c7858aaae6"
      },
      "execution_count": 23,
      "outputs": [
        {
          "output_type": "stream",
          "name": "stdout",
          "text": [
            "models/gemini-1.0-pro\n",
            "models/gemini-1.0-pro-001\n",
            "models/gemini-1.0-pro-latest\n",
            "models/gemini-1.0-pro-vision-latest\n",
            "models/gemini-1.5-pro-latest\n",
            "models/gemini-pro\n",
            "models/gemini-pro-vision\n"
          ]
        }
      ]
    },
    {
      "cell_type": "markdown",
      "source": [
        "#### Configurar como será a geração de conteúdo do modelo"
      ],
      "metadata": {
        "id": "a4KqrKQ6m3QO"
      }
    },
    {
      "cell_type": "code",
      "source": [
        "generation_config = {\n",
        "    \"candidate_count\" : 1,\n",
        "    \"temperature\"     : 0.5, # controle de aleatoriedade das respostas\n",
        "    \"top_p\"           : 1    # limita o vocabulário considerado pelo modelo\n",
        "                             # durante a geração de texto\n",
        "    #\"top_k\"           :     # limita o vocabulário com base na probabilidade\n",
        "                             # acumulada\n",
        " }"
      ],
      "metadata": {
        "id": "h6Yv09fZZ57n"
      },
      "execution_count": 24,
      "outputs": []
    },
    {
      "cell_type": "markdown",
      "source": [
        "#### Configurar como será a utilização de **linguagem explícita**.\n",
        "\n",
        "Alguns conteúdos gerados podem ser ofensivos a determinados públicos alvos, essa configuração tende a filtrar respostas que contenham linguagem imprópria ou ofensiva como discurso de ódio ou discriminação, ataques pessoais ou assédio, e que contenham conteúdo sexualmente sugestivo ou explícito."
      ],
      "metadata": {
        "id": "wH4K-vGAo-i7"
      }
    },
    {
      "cell_type": "code",
      "source": [
        "safety_settings = {\n",
        "    \"HARASSMENT\" : \"BLOCK_NONE\",\n",
        "    \"HATE\"       : \"BLOCK_NONE\",\n",
        "    \"SEXUAL\"     : \"BLOCK_NONE\",\n",
        "    \"DANGEROUS\"  : \"BLOCK_NONE\"\n",
        "}"
      ],
      "metadata": {
        "id": "FdGmIY2XaVm0"
      },
      "execution_count": 25,
      "outputs": []
    },
    {
      "cell_type": "markdown",
      "source": [
        "Inicializando o modelo"
      ],
      "metadata": {
        "id": "j9LjMEOha_c3"
      }
    },
    {
      "cell_type": "code",
      "source": [
        "model = genai.GenerativeModel(\n",
        "  model_name        = \"gemini-1.0-pro\",\n",
        "  generation_config = generation_config,\n",
        "  safety_settings   = safety_settings\n",
        ")"
      ],
      "metadata": {
        "id": "vr288CICbFPU"
      },
      "execution_count": 31,
      "outputs": []
    },
    {
      "cell_type": "markdown",
      "source": [
        "Gerar conteudo"
      ],
      "metadata": {
        "id": "4zHgVpRxb8gi"
      }
    },
    {
      "cell_type": "code",
      "source": [
        "response = model.generate_content(\"Estou aprendendo sobre IA, me de sugestões de aprendizado.\")\n",
        "print(response.text)"
      ],
      "metadata": {
        "id": "E6kx6VpecDI5"
      },
      "execution_count": null,
      "outputs": []
    },
    {
      "cell_type": "markdown",
      "source": [
        "Inicializando o chat"
      ],
      "metadata": {
        "id": "IuVfY_Ehclmr"
      }
    },
    {
      "cell_type": "code",
      "source": [
        "chat = model.start_chat(\n",
        "  history = []\n",
        ")"
      ],
      "metadata": {
        "id": "lq9WThUWcWuw"
      },
      "execution_count": 40,
      "outputs": []
    },
    {
      "cell_type": "code",
      "source": [
        "prompt = input(\"Esperando prompt: \")\n",
        "\n",
        "while prompt != \"fim\":\n",
        "  response = chat.send_message(prompt)\n",
        "  print(\"Resposta: \", response.text, \"\\n\")\n",
        "  prompt = input(\"Esperando prompt: \")\n",
        "\n"
      ],
      "metadata": {
        "id": "mL8gWhDdcrF-"
      },
      "execution_count": null,
      "outputs": []
    },
    {
      "cell_type": "markdown",
      "source": [
        "## Aperfeiçoando o UI"
      ],
      "metadata": {
        "id": "qU_n-sRVeZny"
      }
    },
    {
      "cell_type": "markdown",
      "source": [
        "#### Instalando bibliotecas adicionais"
      ],
      "metadata": {
        "id": "JrzVRD-GrsvP"
      }
    },
    {
      "cell_type": "code",
      "source": [
        "!pip install -U emojis"
      ],
      "metadata": {
        "colab": {
          "base_uri": "https://localhost:8080/"
        },
        "id": "Lrc3jVbJrvLG",
        "outputId": "5f69655d-b47d-42f6-927d-d65126f43fb0"
      },
      "execution_count": 33,
      "outputs": [
        {
          "output_type": "stream",
          "name": "stdout",
          "text": [
            "Collecting emojis\n",
            "  Downloading emojis-0.7.0-py3-none-any.whl (28 kB)\n",
            "Installing collected packages: emojis\n",
            "Successfully installed emojis-0.7.0\n"
          ]
        }
      ]
    },
    {
      "cell_type": "code",
      "source": [
        "import textwrap\n",
        "import emojis\n",
        "\n",
        "from IPython.display import display\n",
        "from IPython.display import Markdown\n",
        "\n",
        "def to_markdown(text):\n",
        "  text = text.replace('-', '  *')\n",
        "  return Markdown(textwrap.indent(text, '> ', predicate=lambda _: True))\n",
        "\n",
        "# Imprimindo o histórico\n",
        "for message in chat.history:\n",
        "  if (message.role in 'model'):\n",
        "    emoji = emojis.encode(':robot:')\n",
        "    role  = 'Chatbot primo da Luri'\n",
        "\n",
        "display(to_markdown(f'{emoji} **{role}**: {message.parts[0].text}'))\n"
      ],
      "metadata": {
        "colab": {
          "base_uri": "https://localhost:8080/",
          "height": 306
        },
        "id": "drdvhpY-ebRA",
        "outputId": "f0898332-9e54-402e-f2fb-2ec9761e8947"
      },
      "execution_count": 39,
      "outputs": [
        {
          "output_type": "display_data",
          "data": {
            "text/plain": [
              "<IPython.core.display.Markdown object>"
            ],
            "text/markdown": "> 🤖 **Chatbot primo da Luri**: A chance de a Inteligência Artificial (IA) deixar de existir em um futuro próximo é extremamente baixa. A IA é um campo em rápido crescimento, com amplas aplicações no mundo real. Espera  *se que a IA continue a desempenhar um papel cada vez mais importante em nossas vidas nos próximos anos.\n> \n> Existem vários fatores que tornam improvável que a IA deixe de existir:\n> \n> * **Avanços contínuos em tecnologia:** Os avanços contínuos em poder computacional, algoritmos e disponibilidade de dados estão impulsionando o progresso da IA.\n> * **Ampla gama de aplicações:** A IA está sendo usada em uma ampla gama de indústrias, incluindo saúde, finanças, manufatura e transporte. Esses setores dependem cada vez mais da IA para melhorar a eficiência, a tomada de decisão e a inovação.\n> * **Investimentos significativos:** Governos, empresas e instituições de pesquisa estão investindo pesadamente em pesquisa e desenvolvimento de IA. Esses investimentos garantem que o campo continue a avançar.\n> * **Apoio social:** A IA tem amplo apoio social, com a maioria das pessoas reconhecendo seus benefícios potenciais. Isso cria um ambiente favorável para o crescimento e desenvolvimento contínuos da IA.\n> \n> Embora seja possível que ocorram retrocessos ou desafios no campo da IA, é altamente improvável que a IA deixe de existir completamente em um futuro próximo."
          },
          "metadata": {}
        }
      ]
    }
  ]
}